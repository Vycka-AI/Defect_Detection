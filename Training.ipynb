{
 "cells": [
  {
   "cell_type": "code",
   "execution_count": null,
   "id": "6b1023b5",
   "metadata": {},
   "outputs": [],
   "source": [
    "%load_ext autoreload\n",
    "%autoreload 2\n",
    "%load_ext lab_black"
   ]
  },
  {
   "cell_type": "code",
   "execution_count": 2,
   "id": "9f3a42d5",
   "metadata": {},
   "outputs": [],
   "source": [
    "import os\n",
    "import numpy as np\n",
    "import matplotlib.pyplot as plt\n",
    "import torch\n",
    "import torch.nn as nn\n",
    "import torch.optim as optim\n",
    "\n",
    "from utils.dataloader import get_train_test_loaders, get_cv_train_test_loaders\n",
    "from utils.model import CustomVGG\n",
    "from utils.helper import train, evaluate, predict_localize\n",
    "from utils.constants import NEG_CLASS"
   ]
  },
  {
   "cell_type": "markdown",
   "id": "7d251f37",
   "metadata": {},
   "source": [
    "## Parameters"
   ]
  },
  {
   "cell_type": "code",
   "execution_count": 3,
   "id": "9ebe7368",
   "metadata": {},
   "outputs": [
    {
     "name": "stdout",
     "output_type": "stream",
     "text": [
      "cpu\n"
     ]
    }
   ],
   "source": [
    "data_folder = \"hazelnut\"\n",
    "#subset_name = \"good\"\n",
    "#data_folder = os.path.join(data_folder, subset_name)\n",
    "\n",
    "batch_size = 10\n",
    "target_train_accuracy = 0.98\n",
    "lr = 0.0001\n",
    "epochs = 10\n",
    "class_weight = [1, 3] if NEG_CLASS == 1 else [3, 1]\n",
    "device = torch.device(\"cuda\" if torch.cuda.is_available() else \"cpu\")\n",
    "print(device)\n",
    "heatmap_thres = 0.7\n",
    "n_cv_folds = 5"
   ]
  },
  {
   "cell_type": "markdown",
   "id": "6fc5b190",
   "metadata": {},
   "source": [
    "# Data"
   ]
  },
  {
   "cell_type": "code",
   "execution_count": 34,
   "id": "35c0685a",
   "metadata": {},
   "outputs": [
    {
     "name": "stdout",
     "output_type": "stream",
     "text": [
      "Dataset hazelnut: N Images = 110, Share of anomalies = 0.636\n"
     ]
    }
   ],
   "source": [
    "train_loader, test_loader = get_train_test_loaders(\n",
    "    root=data_folder, batch_size=batch_size, test_size=0.2, random_state=42,\n",
    ")"
   ]
  },
  {
   "cell_type": "markdown",
   "id": "47a1e428",
   "metadata": {},
   "source": [
    "# Model Training"
   ]
  },
  {
   "cell_type": "code",
   "execution_count": 35,
   "id": "006a5cbb",
   "metadata": {},
   "outputs": [
    {
     "name": "stderr",
     "output_type": "stream",
     "text": [
      "c:\\Users\\vikto\\AppData\\Local\\Programs\\Python\\Python39\\lib\\site-packages\\torchvision\\models\\_utils.py:208: UserWarning: The parameter 'pretrained' is deprecated since 0.13 and may be removed in the future, please use 'weights' instead.\n",
      "  warnings.warn(\n",
      "c:\\Users\\vikto\\AppData\\Local\\Programs\\Python\\Python39\\lib\\site-packages\\torchvision\\models\\_utils.py:223: UserWarning: Arguments other than a weight enum or `None` for 'weights' are deprecated since 0.13 and may be removed in the future. The current behavior is equivalent to passing `weights=VGG16_Weights.IMAGENET1K_V1`. You can also use `weights=VGG16_Weights.DEFAULT` to get the most up-to-date weights.\n",
      "  warnings.warn(msg)\n"
     ]
    }
   ],
   "source": [
    "model = CustomVGG()\n",
    "\n",
    "class_weight = torch.tensor(class_weight).type(torch.FloatTensor).to(device)\n",
    "criterion = nn.CrossEntropyLoss(weight=class_weight)\n",
    "optimizer = optim.Adam(model.parameters(), lr=lr)"
   ]
  },
  {
   "cell_type": "code",
   "execution_count": 36,
   "id": "085555f5",
   "metadata": {},
   "outputs": [
    {
     "name": "stdout",
     "output_type": "stream",
     "text": [
      "Epoch 1/10: Loss = 0.5375, Accuracy = 0.6000\n",
      "Epoch 2/10: Loss = 0.4042, Accuracy = 0.6125\n",
      "Epoch 3/10: Loss = 0.3379, Accuracy = 0.6125\n",
      "Epoch 4/10: Loss = 0.2359, Accuracy = 0.6250\n",
      "Epoch 5/10: Loss = 0.1582, Accuracy = 0.7625\n",
      "Epoch 6/10: Loss = 0.1068, Accuracy = 0.9500\n",
      "Epoch 7/10: Loss = 0.0492, Accuracy = 1.0000\n",
      "Early Stopping\n"
     ]
    }
   ],
   "source": [
    "model = train(\n",
    "    train_loader, model, optimizer, criterion, epochs, device, target_train_accuracy\n",
    ")"
   ]
  },
  {
   "cell_type": "code",
   "execution_count": 37,
   "id": "bab0a023",
   "metadata": {},
   "outputs": [],
   "source": [
    "model_path = f\"weights/First_model.h5\"\n",
    "torch.save(model, model_path)\n",
    "# model = torch.load(model_path, map_location=device)"
   ]
  },
  {
   "cell_type": "markdown",
   "id": "6a40db81",
   "metadata": {},
   "source": [
    "# Evaluation"
   ]
  },
  {
   "cell_type": "code",
   "execution_count": 38,
   "id": "cb26d472",
   "metadata": {
    "tags": []
   },
   "outputs": [
    {
     "name": "stdout",
     "output_type": "stream",
     "text": [
      "Accuracy: 0.9091\n",
      "Balanced Accuracy: 0.8750\n",
      "\n"
     ]
    },
    {
     "data": {
      "image/png": "[encoded data removed]",
      "text/plain": [
       "<Figure size 500x500 with 1 Axes>"
      ]
     },
     "metadata": {},
     "output_type": "display_data"
    }
   ],
   "source": [
    "evaluate(model, test_loader, device)"
   ]
  },
  {
   "cell_type": "markdown",
   "id": "9b01c68d",
   "metadata": {},
   "source": [
    "# Visualization"
   ]
  },
  {
   "cell_type": "code",
   "execution_count": 1,
   "id": "902bcf79",
   "metadata": {
    "tags": []
   },
   "outputs": [
    {
     "ename": "NameError",
     "evalue": "name 'predict_localize' is not defined",
     "output_type": "error",
     "traceback": [
      "\u001b[1;31m---------------------------------------------------------------------------\u001b[0m",
      "\u001b[1;31mNameError\u001b[0m                                 Traceback (most recent call last)",
      "Cell \u001b[1;32mIn[1], line 1\u001b[0m\n\u001b[1;32m----> 1\u001b[0m predict_localize(\n\u001b[0;32m      2\u001b[0m     model, test_loader, device, thres\u001b[39m=\u001b[39mheatmap_thres, n_samples\u001b[39m=\u001b[39m\u001b[39m100\u001b[39m, show_heatmap\u001b[39m=\u001b[39m\u001b[39mTrue\u001b[39;00m\n\u001b[0;32m      3\u001b[0m )\n",
      "\u001b[1;31mNameError\u001b[0m: name 'predict_localize' is not defined"
     ]
    }
   ],
   "source": [
    "predict_localize(\n",
    "    model, test_loader, device, thres=heatmap_thres, n_samples=100, show_heatmap=True\n",
    ")"
   ]
  }
 ],
 "metadata": {
  "environment": {
   "name": "tf2-gpu.2-3.m74",
   "type": "gcloud",
   "uri": "gcr.io/deeplearning-platform-release/tf2-gpu.2-3:m74"
  },
  "kernelspec": {
   "display_name": "Python 3",
   "language": "python",
   "name": "python3"
  },
  "language_info": {
   "codemirror_mode": {
    "name": "ipython",
    "version": 3
   },
   "file_extension": ".py",
   "mimetype": "text/x-python",
   "name": "python",
   "nbconvert_exporter": "python",
   "pygments_lexer": "ipython3",
   "version": "3.9.0"
  },
  "vscode": {
   "interpreter": {
    "hash": "42fbd1c8f0f53f8d933b68c269e54e3c43bddd485b44f0247ea7a09d39b03444"
   }
  }
 },
 "nbformat": 4,
 "nbformat_minor": 5
}
